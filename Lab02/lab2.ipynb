{
  "nbformat": 4,
  "nbformat_minor": 0,
  "metadata": {
    "colab": {
      "provenance": []
    },
    "kernelspec": {
      "name": "python3",
      "display_name": "Python 3"
    },
    "language_info": {
      "name": "python"
    }
  },
  "cells": [
    {
      "cell_type": "code",
      "execution_count": 11,
      "metadata": {
        "id": "g09yP_evyKZh",
        "colab": {
          "base_uri": "https://localhost:8080/"
        },
        "outputId": "30a39efe-1a95-4afb-a282-e14524a6a371"
      },
      "outputs": [
        {
          "output_type": "stream",
          "name": "stdout",
          "text": [
            "W\n",
            "tensor([[1.0842, 0.8369, 0.4064,  ..., 0.8444, 0.6919, 0.8196],\n",
            "        [0.5922, 0.5456, 1.1575,  ..., 0.9380, 0.9492, 0.3432],\n",
            "        [1.2606, 0.7222, 0.8253,  ..., 0.3297, 0.5662, 0.6863],\n",
            "        ...,\n",
            "        [0.9104, 0.4023, 1.1231,  ..., 0.4753, 0.6797, 1.0136],\n",
            "        [0.9943, 0.8070, 0.3145,  ..., 0.4773, 1.1712, 0.2858],\n",
            "        [0.5227, 0.7010, 0.6219,  ..., 0.6089, 0.5403, 1.0234]])\n",
            "------------------------------------------------------------------------------------------\n",
            "b\n",
            "tensor([0.7535, 0.7205, 0.1440, 0.2945, 0.1370, 0.3265, 0.2624, 0.7491, 0.9182,\n",
            "        0.8037])\n"
          ]
        }
      ],
      "source": [
        "import torch\n",
        "from torch import Tensor\n",
        "\n",
        "def sigmoid(z):\n",
        "    return 1 / (1 + torch.exp(-z))\n",
        "\n",
        "def forward_prop(X: torch.Tensor,W: torch.Tensor,b: torch.Tensor):\n",
        "    z = torch.matmul(X,W) + b\n",
        "    y_pred = sigmoid(z)\n",
        "    return y_pred\n",
        "\n",
        "def train_perceptron(X: Tensor, W: Tensor, b: Tensor, y_true: Tensor, mu: float):\n",
        "\n",
        "    y = forward_prop(X,W,b)\n",
        "    error = y_true - y\n",
        "    dW = torch.matmul(X.t(), error)\n",
        "    W = W - mu * dW\n",
        "    b = b - mu * error.mean(axis = 0)\n",
        "\n",
        "    return W, b\n",
        "\n",
        "\n",
        "m = 100\n",
        "input_size = 784\n",
        "output_size = 10\n",
        "\n",
        "X = torch.rand((m, input_size))\n",
        "W = torch.rand((input_size, output_size))\n",
        "b = torch.rand((output_size,))\n",
        "y_true = torch.randint(0, 2, (m, output_size)).float()\n",
        "mu = 0.01\n",
        "\n",
        "updated_W, updated_b = train_perceptron(X, W, b, y_true, mu)\n",
        "print(\"W\")\n",
        "print(updated_W)\n",
        "print(\"---\"*30)\n",
        "print(\"b\")\n",
        "print(updated_b)\n"
      ]
    }
  ]
}