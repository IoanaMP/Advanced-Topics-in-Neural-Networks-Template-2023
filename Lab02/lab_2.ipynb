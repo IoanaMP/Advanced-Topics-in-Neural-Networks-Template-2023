{
  "nbformat": 4,
  "nbformat_minor": 0,
  "metadata": {
    "colab": {
      "provenance": []
    },
    "kernelspec": {
      "name": "python3",
      "display_name": "Python 3"
    },
    "language_info": {
      "name": "python"
    }
  },
  "cells": [
    {
      "cell_type": "code",
      "execution_count": 16,
      "metadata": {
        "id": "g09yP_evyKZh",
        "colab": {
          "base_uri": "https://localhost:8080/",
          "height": 453
        },
        "outputId": "b62c256f-f1bf-4583-e523-11d962d649fe"
      },
      "outputs": [
        {
          "output_type": "stream",
          "name": "stdout",
          "text": [
            "W\n",
            "tensor([[0.7149, 0.8675, 1.0908,  ..., 0.7896, 0.8702, 1.0586],\n",
            "        [0.8307, 0.2765, 0.8097,  ..., 1.0127, 0.4218, 1.0397],\n",
            "        [0.6611, 0.7814, 0.7172,  ..., 1.1334, 0.5015, 0.3418],\n",
            "        ...,\n",
            "        [1.0800, 0.7075, 0.3768,  ..., 1.0739, 0.8837, 0.8547],\n",
            "        [0.5648, 1.2240, 0.3368,  ..., 0.4276, 0.6139, 1.1188],\n",
            "        [0.6890, 0.7584, 0.5537,  ..., 0.5311, 1.0211, 0.3163]])\n",
            "------------------------------------------------------------------------------------------\n",
            "b\n",
            "tensor([0.2324, 0.5855, 0.5651, 0.0782, 0.0102, 0.4651, 0.9798, 0.2244, 0.9241,\n",
            "        0.3341])\n"
          ]
        },
        {
          "output_type": "error",
          "ename": "RuntimeError",
          "evalue": "ignored",
          "traceback": [
            "\u001b[0;31m---------------------------------------------------------------------------\u001b[0m",
            "\u001b[0;31mRuntimeError\u001b[0m                              Traceback (most recent call last)",
            "\u001b[0;32m<ipython-input-16-177861866eb2>\u001b[0m in \u001b[0;36m<cell line: 69>\u001b[0;34m()\u001b[0m\n\u001b[1;32m     69\u001b[0m \u001b[0;32mfor\u001b[0m \u001b[0mepoch\u001b[0m \u001b[0;32min\u001b[0m \u001b[0mrange\u001b[0m\u001b[0;34m(\u001b[0m\u001b[0mepochs\u001b[0m\u001b[0;34m)\u001b[0m\u001b[0;34m:\u001b[0m\u001b[0;34m\u001b[0m\u001b[0;34m\u001b[0m\u001b[0m\n\u001b[1;32m     70\u001b[0m   \u001b[0;32mfor\u001b[0m \u001b[0mtrain_data\u001b[0m\u001b[0;34m,\u001b[0m \u001b[0mtrain_target\u001b[0m \u001b[0;32min\u001b[0m \u001b[0mtrain_gen\u001b[0m\u001b[0;34m:\u001b[0m\u001b[0;34m\u001b[0m\u001b[0;34m\u001b[0m\u001b[0m\n\u001b[0;32m---> 71\u001b[0;31m           \u001b[0mX\u001b[0m \u001b[0;34m=\u001b[0m \u001b[0mtrain_data\u001b[0m\u001b[0;34m.\u001b[0m\u001b[0mreshape\u001b[0m\u001b[0;34m(\u001b[0m\u001b[0;36m6000\u001b[0m\u001b[0;34m,\u001b[0m \u001b[0;34m-\u001b[0m\u001b[0;36m1\u001b[0m\u001b[0;34m)\u001b[0m\u001b[0;34m\u001b[0m\u001b[0;34m\u001b[0m\u001b[0m\n\u001b[0m\u001b[1;32m     72\u001b[0m           \u001b[0my_true\u001b[0m \u001b[0;34m=\u001b[0m \u001b[0mtorch\u001b[0m\u001b[0;34m.\u001b[0m\u001b[0mzeros\u001b[0m\u001b[0;34m(\u001b[0m\u001b[0;36m6000\u001b[0m\u001b[0;34m,\u001b[0m \u001b[0;36m10\u001b[0m\u001b[0;34m)\u001b[0m\u001b[0;34m\u001b[0m\u001b[0;34m\u001b[0m\u001b[0m\n\u001b[1;32m     73\u001b[0m           \u001b[0;32mfor\u001b[0m \u001b[0mi\u001b[0m\u001b[0;34m,\u001b[0m \u001b[0mj\u001b[0m \u001b[0;32min\u001b[0m \u001b[0menumerate\u001b[0m\u001b[0;34m(\u001b[0m\u001b[0mtrain_target\u001b[0m\u001b[0;34m)\u001b[0m\u001b[0;34m:\u001b[0m\u001b[0;34m\u001b[0m\u001b[0;34m\u001b[0m\u001b[0m\n",
            "\u001b[0;31mRuntimeError\u001b[0m: shape '[6000, -1]' is invalid for input of size 25088"
          ]
        }
      ],
      "source": [
        "import torch\n",
        "from torch import Tensor\n",
        "import torchvision.datasets as dsets\n",
        "import torchvision.transforms as transforms\n",
        "from torch.autograd import Variable\n",
        "\n",
        "# train_data = dsets.MNIST(root = './data', train = True,\n",
        "#                         transform = transforms.ToTensor(), download = True)\n",
        "\n",
        "# test_data = dsets.MNIST(root = './data', train = False,\n",
        "#                        transform = transforms.ToTensor())\n",
        "\n",
        "# train_gen = torch.utils.data.DataLoader(dataset = train_data,\n",
        "#                                              batch_size = 32,\n",
        "#                                              shuffle = True)\n",
        "\n",
        "# test_gen = torch.utils.data.DataLoader(dataset = test_data,\n",
        "#                                       batch_size = 32,\n",
        "#                                       shuffle = False)\n",
        "\n",
        "def sigmoid(z):\n",
        "    return 1 / (1 + torch.exp(-z))\n",
        "\n",
        "def forward_prop(X: torch.Tensor,W: torch.Tensor,b: torch.Tensor):\n",
        "    z = torch.matmul(X,W) + b\n",
        "    y_pred = sigmoid(z)\n",
        "    return y_pred\n",
        "\n",
        "def train_perceptron(X: Tensor, W: Tensor, b: Tensor, y_true: Tensor, mu: float):\n",
        "\n",
        "    y = forward_prop(X,W,b)\n",
        "    error = y_true - y\n",
        "    dW = torch.matmul(X.t(), error)\n",
        "    W = W - mu * dW\n",
        "    b = b - mu * error.mean(axis = 0)\n",
        "\n",
        "    return W, b\n",
        "\n",
        "\n",
        "m = 100\n",
        "input_size = 784\n",
        "output_size = 10\n",
        "\n",
        "X = torch.rand((m, input_size))\n",
        "W = torch.rand((input_size, output_size))\n",
        "b = torch.rand((output_size,))\n",
        "y_true = torch.randint(0, 2, (m, output_size)).float()\n",
        "mu = 0.01\n",
        "\n",
        "updated_W, updated_b = train_perceptron(X, W, b, y_true, mu)\n",
        "print(\"W\")\n",
        "print(updated_W)\n",
        "print(\"---\"*30)\n",
        "print(\"b\")\n",
        "print(updated_b)\n",
        "\n",
        "# def test_accuracy(X, W, b, y_true):\n",
        "#     y=forward_prop(X,W,b)\n",
        "#     test = y_true.size(dim=0)\n",
        "#     pred = 0\n",
        "#     y_pred = torch.argmax(y, dim=1)\n",
        "#     for i in range(test):\n",
        "#         if y_true[i] == y_pred[i]:\n",
        "#             pred += 1\n",
        "#     return pred / test\n",
        "\n",
        "# epochs = 10\n",
        "\n",
        "# for epoch in range(epochs):\n",
        "#     x_train = torch.flatten(x_train, start_dim=1) #wrong, it's not working need reshape\n",
        "#     x_train = x_train.float()\n",
        "#     y_train = y_train.float()\n",
        "\n",
        "#    x_test = torch.flatten(x_test, start_dim=1)\n",
        "\n",
        "#     W, b, y_pred = train_perceptron(X, W, b, y_true, mu)\n",
        "\n",
        "#accuracy = test_accuracy(x_test, W, b, y_test)\n",
        "#print(\"Accuracy after training: {0}\".format(accuracy))"
      ]
    }
  ]
}